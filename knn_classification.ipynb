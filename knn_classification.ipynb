{
 "cells": [
  {
   "cell_type": "markdown",
   "id": "d0f1d244",
   "metadata": {},
   "source": [
    "# K-Nearest Neighbor Practica\n",
    "El algoritmo de K-Nearest Neighbor (KNN) es uno de los métodos más simples y populares de aprendizaje automático. Se basa en la idea de que los objetos similares tienden a estar cerca unos de otros en el espacio de características. KNN puede utilizarse tanto para clasificación como para regresión, dependiendo de si la variable objetivo es categórica o numérica. En este artículo, voy a explicar un poco sobre cómo funciona KNN y voy a hacer un ejercicio de reconocimiento de un animal a partir de sus caracteristicas de peso, altura y longitud del pelaje\n"
   ]
  },
  {
   "cell_type": "markdown",
   "id": "e3c9cfc0",
   "metadata": {},
   "source": [
    "**Ejemplo:** Un gran ejemplo del uso de KNN es el sistema de recomendaciones de TikTok el cual funciona a partir de los videos vistos y las busquedas para mostrar otros similares a estos"
   ]
  },
  {
   "cell_type": "markdown",
   "id": "77f8269c",
   "metadata": {},
   "source": [
    "## Problema\n",
    "En una tienda de mascotas se tiene una base de datos de animales disponibles, que incluye perros, gatos y pájaros. Se Desea crear un sistema que, dada la información sobre un animal desconocido, prediga si es un perro, un gato o un pájaro. Para ello, se decide utilizar el algoritmo KNN.\n",
    "\n",
    "Se tiene un conjunto de datos con las siguientes características:\n",
    "1. weight (en kilogramos)\n",
    "2. height (en centímetros)\n",
    "3. fur_length (en centímetros)\n",
    "\n",
    "Además, hay información sobre las especies de los animales en la base de datos: dog (D), cat (C) o bird (B).\n",
    "\n",
    "Aquí hay algunos datos de ejemplo:\n",
    "\n",
    "| weight | height  | fur_length | species |\n",
    "|------|--------|---------------------|---------|\n",
    "| 4.0  | 25.0   | 4.5                 | C       |\n",
    "| 30.0 | 60.0   | 8.0                 | D       |\n",
    "| 1.0  | 10.0   | 0.2                 | B       |\n",
    "| 8.0  | 30.0   | 3.0                 | C       |\n",
    "| 25.0 | 55.0   | 7.5                 | D       |\n",
    "| 0.5  | 8.0    | 0.1                 | B       |\n",
    "\n",
    "Ahora, supongamos que hay un animal desconocido con las siguientes características:\n",
    "- weight: 3.0 kg\n",
    "- height: 15.0 cm\n",
    "- fur_length: 2.0 cm\n",
    "\n",
    "El objetivo es predecir si este animal es un perro, un gato o un pájaro utilizando el algoritmo KNN.\n",
    "\n",
    "Pasos para resolver el problema:\n",
    "\n",
    "1. Elegir un valor para K. \n",
    "2. Calcular la distancia entre el animal desconocido y todos los animales en el conjunto de datos.\n",
    "3. Seleccionar los K animales más cercanos (K=3 en este caso) y observar las especies de esos animales.\n",
    "4. Predecir la especie del animal desconocido basándose en la especie mayoritaria entre los K animales más cercanos.\n"
   ]
  },
  {
   "cell_type": "markdown",
   "id": "169ed6e4",
   "metadata": {},
   "source": [
    "## Solución\n",
    "Primero se crean 200 datos aleatorios de acuerdo a los lineamientos"
   ]
  },
  {
   "cell_type": "code",
   "execution_count": 1,
   "id": "4d13995d",
   "metadata": {},
   "outputs": [],
   "source": [
    "import numpy as np\n",
    "\n",
    "n_samples = 200\n",
    "n_species = 3\n",
    "\n",
    "species_params = {\n",
    "    \"C\": {\"weight\": (3, 6), \"height\": (20, 30), \"fur_length\": (3, 6)},\n",
    "    \"D\": {\"weight\": (20, 40), \"height\": (40, 70), \"fur_length\": (5, 10)},\n",
    "    \"B\": {\"weight\": (0.1, 1.5), \"height\": (5, 15), \"fur_length\": (0, 0.5)}\n",
    "}\n",
    "\n",
    "def generate_animal_data(species, n_samples):\n",
    "    weight_range = species_params[species][\"weight\"]\n",
    "    height_range = species_params[species][\"height\"]\n",
    "    fur_lenght_range = species_params[species][\"fur_length\"]\n",
    "    \n",
    "    weights = np.random.uniform(weight_range[0], weight_range[1], n_samples)\n",
    "    heights = np.random.uniform(height_range[0], height_range[1], n_samples)\n",
    "    fur_lengths = np.random.uniform(fur_lenght_range[0], fur_lenght_range[1], n_samples)\n",
    "    \n",
    "    return [\n",
    "        {\"weight\": w, \"height\": h, \"fur_length\": f, \"species\": species}\n",
    "        for w, h, f in zip(weights, heights, fur_lengths)\n",
    "    ]\n",
    "    \n",
    "data = []\n",
    "samples_per_species = n_samples // n_species\n",
    "for species in species_params.keys():\n",
    "    data.extend(generate_animal_data(species, samples_per_species))\n"
   ]
  },
  {
   "cell_type": "markdown",
   "id": "888463ca",
   "metadata": {},
   "source": [
    "Ahora se procede a entrenar el modelo"
   ]
  },
  {
   "cell_type": "code",
   "execution_count": 28,
   "id": "ab032075",
   "metadata": {},
   "outputs": [
    {
     "name": "stdout",
     "output_type": "stream",
     "text": [
      "1.0\n"
     ]
    }
   ],
   "source": [
    "import pandas as pd\n",
    "from sklearn.neighbors import KNeighborsClassifier\n",
    "from sklearn.model_selection import train_test_split\n",
    "\n",
    "df = pd.DataFrame(data)\n",
    "\n",
    "X = df.drop(\"species\", axis=1).values\n",
    "y = df[\"species\"].values\n",
    "\n",
    "X_train, X_test, y_train, y_test = train_test_split(X, y, test_size=0.3, random_state=21, stratify=y)\n",
    "\n",
    "knn = KNeighborsClassifier(n_neighbors=3)\n",
    "knn.fit(X_train, y_train)\n",
    "print(knn.score(X_test, y_test))"
   ]
  },
  {
   "cell_type": "markdown",
   "id": "991b698b-b6d1-4bb0-9eec-f2512f273d06",
   "metadata": {},
   "source": [
    "Con un accuracy del 100% buscamos la especie de las caracteristicas nuevas"
   ]
  },
  {
   "cell_type": "code",
   "execution_count": 30,
   "id": "a8a33d48-9efd-499b-bf2e-7f4a3c2e44c9",
   "metadata": {},
   "outputs": [
    {
     "name": "stdout",
     "output_type": "stream",
     "text": [
      "['Prediction: B']\n"
     ]
    }
   ],
   "source": [
    "X_new = [[3.0, 15.0, 2.0]]\n",
    "predictions = knn.predict(X_new)\n",
    "print('Prediction: ' + predictions)"
   ]
  },
  {
   "cell_type": "markdown",
   "id": "dae5c2c6-b226-4956-94dc-29f6adcc3f88",
   "metadata": {},
   "source": [
    "Segun el modelo, un animal con esas caracteristicas se puede clasificar como un ave"
   ]
  },
  {
   "cell_type": "code",
   "execution_count": null,
   "id": "76a0bca4-3c27-47a3-a156-e8f2f63302a6",
   "metadata": {},
   "outputs": [],
   "source": []
  }
 ],
 "metadata": {
  "kernelspec": {
   "display_name": "anaconda-2022.05-py39",
   "language": "python",
   "name": "conda-env-anaconda-2022.05-py39-py"
  },
  "language_info": {
   "codemirror_mode": {
    "name": "ipython",
    "version": 3
   },
   "file_extension": ".py",
   "mimetype": "text/x-python",
   "name": "python",
   "nbconvert_exporter": "python",
   "pygments_lexer": "ipython3",
   "version": "3.9.12"
  }
 },
 "nbformat": 4,
 "nbformat_minor": 5
}
